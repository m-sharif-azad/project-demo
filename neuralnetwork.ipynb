{
  "nbformat": 4,
  "nbformat_minor": 0,
  "metadata": {
    "colab": {
      "provenance": []
    },
    "kernelspec": {
      "name": "python3",
      "display_name": "Python 3"
    },
    "language_info": {
      "name": "python"
    }
  },
  "cells": [
    {
      "cell_type": "code",
      "execution_count": null,
      "metadata": {
        "id": "RK24XTPABFxK"
      },
      "outputs": [],
      "source": [
        "#!pip install tensorflow\n"
      ]
    },
    {
      "cell_type": "code",
      "source": [
        "# import libraries\n",
        "import tensorflow as tf\n",
        "import seaborn as sns\n",
        "import numpy as np\n",
        "import pandas as pd\n",
        "import matplotlib.pyplot as plt\n",
        "import matplotlib.image as mpimg\n",
        "import urllib.request\n",
        "import os"
      ],
      "metadata": {
        "id": "L2LYUo4MBw6t"
      },
      "execution_count": null,
      "outputs": []
    },
    {
      "cell_type": "code",
      "source": [
        "# Download the MNIST dataset from website\n",
        "url = 'http://yann.lecun.com/exdb/mnist/'\n",
        "files = ['train-images-idx3-ubyte.gz', 'train-labels-idx1-ubyte.gz',\n",
        "         't10k-images-idx3-ubyte.gz', 't10k-labels-idx1-ubyte.gz']\n",
        "data_dir = './mnist_data/'\n",
        "if not os.path.exists(data_dir):\n",
        "    os.makedirs(data_dir)\n",
        "for file in files:\n",
        "    urllib.request.urlretrieve(url + file, data_dir + file)"
      ],
      "metadata": {
        "id": "LyzmTs-JI2hJ"
      },
      "execution_count": null,
      "outputs": []
    },
    {
      "cell_type": "markdown",
      "source": [
        "##Load data\n",
        "\n",
        "The first stage involves loading the data and then partitioning it into separate datasets for training and testing purposes.\n",
        "\n",
        "The dataset used for training the model consists of 28x28 pictures of handwritten digits, denoted as x_train.\n",
        "\n",
        "The variable y_train represents the collection of labels that correspond to the dataset x_train.\n",
        "\n",
        "The dataset x_test consists of pictures of handwritten digits, each with dimensions of 28x28 pixels, which will be used for testing the model.\n",
        "\n",
        "The dataset y_test consists of labels that relate to the dataset x_test.\n",
        "\n",
        "\n"
      ],
      "metadata": {
        "id": "nvqR28Z4HWh8"
      }
    },
    {
      "cell_type": "code",
      "source": [
        "\n",
        "from tensorflow import keras\n",
        "from keras.datasets import mnist\n",
        "# Load the MNIST datasets\n",
        "(x_train, y_train), (x_test, y_test) = mnist.load_data()"
      ],
      "metadata": {
        "id": "gvd1UG1AFBjX"
      },
      "execution_count": null,
      "outputs": []
    },
    {
      "cell_type": "markdown",
      "source": [
        "## Preprocess the data\n",
        "\n",
        "It is desired that each value falls between the range of 0.0 and 1.0. To normalise the values, it is necessary to divide them by 255.0, since they all initially lie within the range of 0.0-255.0.\n",
        "\n",
        "The specification of the input shape is necessary in order to inform the model about the nature of the input data, which consists of 28x28 pictures in the x_train dataset."
      ],
      "metadata": {
        "id": "ALPsjLLMBGiH"
      }
    },
    {
      "cell_type": "code",
      "source": [
        "# Normalizing\n",
        "x_train = x_train.astype('float32')  # convert int8 to float32\n",
        "x_train =x_train / 255.  #rescale the pixel values in range 0 - 1\n",
        "x_test = x_test.astype('float32')\n",
        "x_test = x_test / 255.\n",
        "\n",
        "\n",
        "# Transforming\n",
        "y_train = tf.keras.utils.to_categorical(y_train, num_classes=10) # transform the labels into one-hot encodings\n",
        "y_test = tf.keras.utils.to_categorical(y_test, num_classes=10)"
      ],
      "metadata": {
        "id": "icD-SZCPIbNC"
      },
      "execution_count": null,
      "outputs": []
    },
    {
      "cell_type": "markdown",
      "source": [
        "## Neural Network Model\n",
        "\n",
        "\n",
        "The proposed architecture consists of a Sequential model consisting of two Conv2D layers, which are afterwards followed by MaxPooling2D layers. This is then followed by a Flatten layer and two completely linked Dense layers. The model accepts a grayscale picture with dimensions of 28x28 as its input and generates a probability distribution that encompasses the 10 potential digit labels."
      ],
      "metadata": {
        "id": "qdTfeYIJFtsB"
      }
    },
    {
      "cell_type": "code",
      "source": [
        "\n",
        "\n",
        "from keras import layers, Sequential, models # import libraries\n",
        "\n",
        "\n",
        "model = Sequential([\n",
        "    layers.Conv2D(32, (3, 3), activation='relu', input_shape=(28, 28, 1)),\n",
        "    layers.MaxPooling2D((2, 2)),\n",
        "    layers.Conv2D(64, (3, 3), activation='relu'),\n",
        "    layers.MaxPooling2D((2, 2)),\n",
        "    layers.Flatten(),\n",
        "    layers.Dense(64, activation='relu'),\n",
        "    layers.Dense(10, activation='softmax')\n",
        "])"
      ],
      "metadata": {
        "id": "ORhOzqPoVVBI"
      },
      "execution_count": null,
      "outputs": []
    },
    {
      "cell_type": "markdown",
      "source": [
        "##Compile & Training Model\n",
        "\n",
        "The provided code builds the model using the categorical_crossentropy loss function, the adam optimizer, and the accuracy metric. Subsequently, the model is trained on the training set over a span of 5 epochs, using a batch size of 32. Following each epoch, the model's performance is assessed by evaluating it on the test set."
      ],
      "metadata": {
        "id": "a6yUKBYkMjQx"
      }
    },
    {
      "cell_type": "code",
      "source": [
        "# Compile the model\n",
        "model.compile(loss='categorical_crossentropy',\n",
        "              optimizer='adam',\n",
        "              metrics=['accuracy'])\n",
        "\n",
        "# Train the model\n",
        "model.fit(x_train, y_train,\n",
        "          epochs=5,\n",
        "          batch_size=32,\n",
        "          validation_data=(x_test, y_test))"
      ],
      "metadata": {
        "colab": {
          "base_uri": "https://localhost:8080/"
        },
        "id": "j3LqOyKpVWFe",
        "outputId": "cd6d0d10-a7fb-4f26-deae-1c0ef30ff8b6"
      },
      "execution_count": null,
      "outputs": [
        {
          "output_type": "stream",
          "name": "stdout",
          "text": [
            "Epoch 1/5\n",
            "1875/1875 [==============================] - 50s 26ms/step - loss: 0.1376 - accuracy: 0.9585 - val_loss: 0.0489 - val_accuracy: 0.9828\n",
            "Epoch 2/5\n",
            "1875/1875 [==============================] - 49s 26ms/step - loss: 0.0448 - accuracy: 0.9864 - val_loss: 0.0374 - val_accuracy: 0.9876\n",
            "Epoch 3/5\n",
            "1875/1875 [==============================] - 49s 26ms/step - loss: 0.0311 - accuracy: 0.9906 - val_loss: 0.0289 - val_accuracy: 0.9898\n",
            "Epoch 4/5\n",
            "1875/1875 [==============================] - 49s 26ms/step - loss: 0.0232 - accuracy: 0.9925 - val_loss: 0.0228 - val_accuracy: 0.9925\n",
            "Epoch 5/5\n",
            "1875/1875 [==============================] - 49s 26ms/step - loss: 0.0158 - accuracy: 0.9950 - val_loss: 0.0318 - val_accuracy: 0.9903\n"
          ]
        },
        {
          "output_type": "execute_result",
          "data": {
            "text/plain": [
              "<keras.src.callbacks.History at 0x7e5c16fb6f20>"
            ]
          },
          "metadata": {},
          "execution_count": 8
        }
      ]
    },
    {
      "cell_type": "markdown",
      "source": [
        "## Evaluate the Model"
      ],
      "metadata": {
        "id": "MW_w8FOiM9v_"
      }
    },
    {
      "cell_type": "code",
      "source": [
        "# Evaluate the model on the test set\n",
        "test_loss, test_acc = model.evaluate(x_test, y_test)\n",
        "\n",
        "print('Test loss:', test_loss)\n",
        "print('Test accuracy:', test_acc)"
      ],
      "metadata": {
        "colab": {
          "base_uri": "https://localhost:8080/"
        },
        "id": "r6BQqX8NWZHl",
        "outputId": "73d97f3c-0331-41e0-e5c2-19bcc55bf775"
      },
      "execution_count": null,
      "outputs": [
        {
          "output_type": "stream",
          "name": "stdout",
          "text": [
            "313/313 [==============================] - 2s 8ms/step - loss: 0.0318 - accuracy: 0.9903\n",
            "Test loss: 0.0317535400390625\n",
            "Test accuracy: 0.9902999997138977\n"
          ]
        }
      ]
    },
    {
      "cell_type": "markdown",
      "source": [
        "## Predict Labels"
      ],
      "metadata": {
        "id": "-y3fvpo8NxqQ"
      }
    },
    {
      "cell_type": "code",
      "source": [
        "predicted = model.predict(x_test)\n"
      ],
      "metadata": {
        "colab": {
          "base_uri": "https://localhost:8080/"
        },
        "id": "3_i8AsX6b3Za",
        "outputId": "b5ad7fbc-5751-4c02-fab0-206f91f8e6d2"
      },
      "execution_count": null,
      "outputs": [
        {
          "output_type": "stream",
          "name": "stdout",
          "text": [
            "313/313 [==============================] - 3s 8ms/step\n"
          ]
        }
      ]
    },
    {
      "cell_type": "code",
      "source": [
        "predicted = np.argmax(np.round(predicted),axis=1)  # np.argmax()  find the index of the maximum value in each row of the array."
      ],
      "metadata": {
        "id": "W0GFLH2McMRN"
      },
      "execution_count": null,
      "outputs": []
    },
    {
      "cell_type": "code",
      "source": [
        "y_test = np.argmax(np.round(y_test),axis =1)   # np.argmax()  find the index of the maximum value in each row of the array."
      ],
      "metadata": {
        "id": "Zha2en7tkxBD"
      },
      "execution_count": null,
      "outputs": []
    },
    {
      "cell_type": "code",
      "source": [
        "predicted.shape, y_test.shape"
      ],
      "metadata": {
        "colab": {
          "base_uri": "https://localhost:8080/"
        },
        "id": "2OSzB89tiE-Y",
        "outputId": "e6e725e5-97b3-41ac-d8d2-66187cc40caf"
      },
      "execution_count": null,
      "outputs": [
        {
          "output_type": "execute_result",
          "data": {
            "text/plain": [
              "((10000,), (10000,))"
            ]
          },
          "metadata": {},
          "execution_count": 13
        }
      ]
    },
    {
      "cell_type": "code",
      "source": [
        "correct = np.where(predicted==y_test)[0]\n",
        "print (\"Found %d correct labels\",len(correct))\n",
        "for i, correct in enumerate(correct[:9]):\n",
        "    plt.subplot(3,3,i+1)\n",
        "    plt.imshow(x_test[correct].reshape(28,28), cmap='gray', interpolation='none')\n",
        "    plt.title(\"Predicted {}, Class {}\".format(predicted[correct], y_test[correct]))\n",
        "    plt.tight_layout()"
      ],
      "metadata": {
        "colab": {
          "base_uri": "https://localhost:8080/",
          "height": 559
        },
        "id": "QscnLp3jiFOA",
        "outputId": "09947742-d780-4233-8ac2-c6a096c35123"
      },
      "execution_count": null,
      "outputs": [
        {
          "output_type": "stream",
          "name": "stdout",
          "text": [
            "Found %d correct labels 9899\n"
          ]
        },
        {
          "output_type": "stream",
          "name": "stderr",
          "text": [
            "<ipython-input-14-957d7b694790>:4: MatplotlibDeprecationWarning: Auto-removal of overlapping axes is deprecated since 3.6 and will be removed two minor releases later; explicitly call ax.remove() as needed.\n",
            "  plt.subplot(3,3,i+1)\n"
          ]
        },
        {
          "output_type": "display_data",
          "data": {
            "text/plain": [
              "<Figure size 640x480 with 8 Axes>"
            ],
            "image/png": "[encoded data removed]"
          },
          "metadata": {}
        }
      ]
    },
    {
      "cell_type": "markdown",
      "source": [
        "## Result of Correctly Predicted\n",
        "Here all the images are not similar pattern. So all the class are corrently predicted."
      ],
      "metadata": {
        "id": "KA1RUsi4Orkk"
      }
    },
    {
      "cell_type": "code",
      "source": [],
      "metadata": {
        "id": "Iy4B6dmgiFRO"
      },
      "execution_count": null,
      "outputs": []
    },
    {
      "cell_type": "code",
      "source": [
        "incorrect = np.where(predicted!=y_test)[0]\n",
        "print (\"Found %d incorrect labels\",len(incorrect))\n",
        "for i, incorrect in enumerate(incorrect[:9]):\n",
        "    plt.subplot(3,3,i+1)\n",
        "    plt.imshow(x_test[incorrect].reshape(28,28), cmap='gray', interpolation='none')\n",
        "    plt.title(\"Predicted {}, Class {}\".format(predicted[incorrect], y_test[incorrect]))\n",
        "    plt.tight_layout()"
      ],
      "metadata": {
        "colab": {
          "base_uri": "https://localhost:8080/",
          "height": 559
        },
        "id": "xRPE-km_iFUw",
        "outputId": "f389a5e3-1ef3-4e93-b284-b451d5399d49"
      },
      "execution_count": null,
      "outputs": [
        {
          "output_type": "stream",
          "name": "stdout",
          "text": [
            "Found %d incorrect labels 101\n"
          ]
        },
        {
          "output_type": "stream",
          "name": "stderr",
          "text": [
            "<ipython-input-15-a83a984f5786>:4: MatplotlibDeprecationWarning: Auto-removal of overlapping axes is deprecated since 3.6 and will be removed two minor releases later; explicitly call ax.remove() as needed.\n",
            "  plt.subplot(3,3,i+1)\n"
          ]
        },
        {
          "output_type": "display_data",
          "data": {
            "text/plain": [
              "<Figure size 640x480 with 8 Axes>"
            ],
            "image/png": "[encoded data removed]"
          },
          "metadata": {}
        }
      ]
    },
    {
      "cell_type": "markdown",
      "source": [
        "Here model is not able to classify the above images correctly, but it seems like a variety of the similar patterns present on multiple classes affect the performance of the classifier although CNN is a robust architecture. For example, images number 3 and 6 both belong to different classes but look kind of similar to 3 and 7. but  those are 5 and 2."
      ],
      "metadata": {
        "id": "MT8e4L8PPg6-"
      }
    }
  ]
}