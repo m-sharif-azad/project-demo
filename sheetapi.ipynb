{
  "nbformat": 4,
  "nbformat_minor": 0,
  "metadata": {
    "colab": {
      "provenance": [],
      "toc_visible": true
    },
    "kernelspec": {
      "name": "python3",
      "display_name": "Python 3"
    },
    "language_info": {
      "name": "python"
    }
  },
  "cells": [
    {
      "cell_type": "code",
      "source": [
        "\n",
        "#!pip install --upgrade gspread==3.6"
      ],
      "metadata": {
        "id": "BrAdsZV6dK7p"
      },
      "execution_count": 77,
      "outputs": []
    },
    {
      "cell_type": "code",
      "execution_count": 78,
      "metadata": {
        "id": "o9xBRXGabCu3"
      },
      "outputs": [],
      "source": [
        "import gspread\n",
        "import pandas as pd\n"
      ]
    },
    {
      "cell_type": "code",
      "source": [
        "credential_file = \"/content/pythonsheetapp-46859d2ea255.json\"\n",
        "gc = gspread.service_account(credential_file )\n",
        "gc"
      ],
      "metadata": {
        "colab": {
          "base_uri": "https://localhost:8080/"
        },
        "id": "0FBsZyHObGKl",
        "outputId": "79555137-390d-4b5e-879f-f46c0eabe490"
      },
      "execution_count": 79,
      "outputs": [
        {
          "output_type": "execute_result",
          "data": {
            "text/plain": [
              "<gspread.client.Client at 0x7d70af2cd5a0>"
            ]
          },
          "metadata": {},
          "execution_count": 79
        }
      ]
    },
    {
      "cell_type": "code",
      "source": [
        "# Establish the connection\n",
        "# excel is the googleSpreadSheet name\n",
        "excel = gc.open(\"excel\")\n",
        "excel\n"
      ],
      "metadata": {
        "colab": {
          "base_uri": "https://localhost:8080/"
        },
        "id": "bSidN4QnfEAd",
        "outputId": "daf59deb-2b48-4155-e459-cfc66151c03a"
      },
      "execution_count": 80,
      "outputs": [
        {
          "output_type": "execute_result",
          "data": {
            "text/plain": [
              "<Spreadsheet 'excel' id:1ntILbrQxNncEGV2fZQCfEP44B_fO3U5d0agBT22GZy0>"
            ]
          },
          "metadata": {},
          "execution_count": 80
        }
      ]
    },
    {
      "cell_type": "code",
      "source": [
        "first_sheet = excel.worksheet(\"Sheet1\")\n",
        "first_sheet"
      ],
      "metadata": {
        "colab": {
          "base_uri": "https://localhost:8080/"
        },
        "id": "ZW21vr3qfO0x",
        "outputId": "4d6648c2-cfce-46f1-cc4a-6a8535d9979e"
      },
      "execution_count": 81,
      "outputs": [
        {
          "output_type": "execute_result",
          "data": {
            "text/plain": [
              "<Worksheet 'Sheet1' id:0>"
            ]
          },
          "metadata": {},
          "execution_count": 81
        }
      ]
    },
    {
      "cell_type": "code",
      "source": [
        "# List all the worksheets\n",
        "list_first_sheet = excel.worksheets()\n",
        "list_first_sheet"
      ],
      "metadata": {
        "colab": {
          "base_uri": "https://localhost:8080/"
        },
        "id": "WN4LzLJIfXko",
        "outputId": "b9198d7f-f93b-4c33-8dd8-42ccb4cb468e"
      },
      "execution_count": 82,
      "outputs": [
        {
          "output_type": "execute_result",
          "data": {
            "text/plain": [
              "[<Worksheet 'Sheet1' id:0>]"
            ]
          },
          "metadata": {},
          "execution_count": 82
        }
      ]
    },
    {
      "cell_type": "code",
      "source": [
        "# Adding a new worksheet to Google SpreadSheet\n",
        "excel.add_worksheet(\"another_sheet\",\"50\",\"10\")"
      ],
      "metadata": {
        "colab": {
          "base_uri": "https://localhost:8080/"
        },
        "id": "04iStS9LfcI0",
        "outputId": "3889fd22-cb30-4ccf-dbac-deeaa3d28658"
      },
      "execution_count": 83,
      "outputs": [
        {
          "output_type": "execute_result",
          "data": {
            "text/plain": [
              "<Worksheet 'another_sheet' id:814142861>"
            ]
          },
          "metadata": {},
          "execution_count": 83
        }
      ]
    },
    {
      "cell_type": "code",
      "source": [
        "all_data=first_sheet.get_all_records()"
      ],
      "metadata": {
        "id": "kGO-jcvNgOdY"
      },
      "execution_count": 84,
      "outputs": []
    },
    {
      "cell_type": "code",
      "source": [
        "# Acess all the records\n",
        "data = pd.DataFrame(all_data)\n",
        "data"
      ],
      "metadata": {
        "colab": {
          "base_uri": "https://localhost:8080/",
          "height": 331
        },
        "id": "uXq8slhkf8Ue",
        "outputId": "7dda8340-1cd6-4ad3-cb82-fa34fb0a4e87"
      },
      "execution_count": 85,
      "outputs": [
        {
          "output_type": "execute_result",
          "data": {
            "text/plain": [
              "               Name              Course   Duration   Payment       Due  \\\n",
              "0   Md. Aminul Islam             Python  1.5 month  1,500.00       0.0   \n",
              "1        Sadia Smita  Machine Learning     4 month  2,000.00  2,000.00   \n",
              "2           Md. Arif             Python  1.5 month  1,000.00     500.0   \n",
              "3    Mr. Ruhul Asraf             Python  1.5 month  1,000.00     500.0   \n",
              "4    Md. Abdul Wahel       Data Science    3 month  1,000.00  2,000.00   \n",
              "5       Nourin Afrin  Machine Learning     4 month  4,000.00       0.0   \n",
              "6         Nupur Rani  Machine Learning     4 month  4,002.00     200.0   \n",
              "7     Md. Shakhawat       Deep Learning    6 month  4,000.00  2,000.00   \n",
              "8  Md. Zillur Rahman      Deep Learning    6 month  3,000.00  3,000.00   \n",
              "\n",
              "     Status  \n",
              "0      Done  \n",
              "1  Not done  \n",
              "2  Not done  \n",
              "3  Not done  \n",
              "4  Not done  \n",
              "5  Not done  \n",
              "6  Not done  \n",
              "7  Not done  \n",
              "8  Not done  "
            ],
            "text/html": [
              "\n",
              "  <div id=\"df-a87892ed-9ce5-49b6-b769-3d3069ff1caa\" class=\"colab-df-container\">\n",
              "    <div>\n",
              "<style scoped>\n",
              "    .dataframe tbody tr th:only-of-type {\n",
              "        vertical-align: middle;\n",
              "    }\n",
              "\n",
              "    .dataframe tbody tr th {\n",
              "        vertical-align: top;\n",
              "    }\n",
              "\n",
              "    .dataframe thead th {\n",
              "        text-align: right;\n",
              "    }\n",
              "</style>\n",
              "<table border=\"1\" class=\"dataframe\">\n",
              "  <thead>\n",
              "    <tr style=\"text-align: right;\">\n",
              "      <th></th>\n",
              "      <th>Name</th>\n",
              "      <th>Course</th>\n",
              "      <th>Duration</th>\n",
              "      <th>Payment</th>\n",
              "      <th>Due</th>\n",
              "      <th>Status</th>\n",
              "    </tr>\n",
              "  </thead>\n",
              "  <tbody>\n",
              "    <tr>\n",
              "      <th>0</th>\n",
              "      <td>Md. Aminul Islam</td>\n",
              "      <td>Python</td>\n",
              "      <td>1.5 month</td>\n",
              "      <td>1,500.00</td>\n",
              "      <td>0.0</td>\n",
              "      <td>Done</td>\n",
              "    </tr>\n",
              "    <tr>\n",
              "      <th>1</th>\n",
              "      <td>Sadia Smita</td>\n",
              "      <td>Machine Learning</td>\n",
              "      <td>4 month</td>\n",
              "      <td>2,000.00</td>\n",
              "      <td>2,000.00</td>\n",
              "      <td>Not done</td>\n",
              "    </tr>\n",
              "    <tr>\n",
              "      <th>2</th>\n",
              "      <td>Md. Arif</td>\n",
              "      <td>Python</td>\n",
              "      <td>1.5 month</td>\n",
              "      <td>1,000.00</td>\n",
              "      <td>500.0</td>\n",
              "      <td>Not done</td>\n",
              "    </tr>\n",
              "    <tr>\n",
              "      <th>3</th>\n",
              "      <td>Mr. Ruhul Asraf</td>\n",
              "      <td>Python</td>\n",
              "      <td>1.5 month</td>\n",
              "      <td>1,000.00</td>\n",
              "      <td>500.0</td>\n",
              "      <td>Not done</td>\n",
              "    </tr>\n",
              "    <tr>\n",
              "      <th>4</th>\n",
              "      <td>Md. Abdul Wahel</td>\n",
              "      <td>Data Science</td>\n",
              "      <td>3 month</td>\n",
              "      <td>1,000.00</td>\n",
              "      <td>2,000.00</td>\n",
              "      <td>Not done</td>\n",
              "    </tr>\n",
              "    <tr>\n",
              "      <th>5</th>\n",
              "      <td>Nourin Afrin</td>\n",
              "      <td>Machine Learning</td>\n",
              "      <td>4 month</td>\n",
              "      <td>4,000.00</td>\n",
              "      <td>0.0</td>\n",
              "      <td>Not done</td>\n",
              "    </tr>\n",
              "    <tr>\n",
              "      <th>6</th>\n",
              "      <td>Nupur Rani</td>\n",
              "      <td>Machine Learning</td>\n",
              "      <td>4 month</td>\n",
              "      <td>4,002.00</td>\n",
              "      <td>200.0</td>\n",
              "      <td>Not done</td>\n",
              "    </tr>\n",
              "    <tr>\n",
              "      <th>7</th>\n",
              "      <td>Md. Shakhawat</td>\n",
              "      <td>Deep Learning</td>\n",
              "      <td>6 month</td>\n",
              "      <td>4,000.00</td>\n",
              "      <td>2,000.00</td>\n",
              "      <td>Not done</td>\n",
              "    </tr>\n",
              "    <tr>\n",
              "      <th>8</th>\n",
              "      <td>Md. Zillur Rahman</td>\n",
              "      <td>Deep Learning</td>\n",
              "      <td>6 month</td>\n",
              "      <td>3,000.00</td>\n",
              "      <td>3,000.00</td>\n",
              "      <td>Not done</td>\n",
              "    </tr>\n",
              "  </tbody>\n",
              "</table>\n",
              "</div>\n",
              "    <div class=\"colab-df-buttons\">\n",
              "\n",
              "  <div class=\"colab-df-container\">\n",
              "    <button class=\"colab-df-convert\" onclick=\"convertToInteractive('df-a87892ed-9ce5-49b6-b769-3d3069ff1caa')\"\n",
              "            title=\"Convert this dataframe to an interactive table.\"\n",
              "            style=\"display:none;\">\n",
              "\n",
              "  <svg xmlns=\"http://www.w3.org/2000/svg\" height=\"24px\" viewBox=\"0 -960 960 960\">\n",
              "    <path d=\"M120-120v-720h720v720H120Zm60-500h600v-160H180v160Zm220 220h160v-160H400v160Zm0 220h160v-160H400v160ZM180-400h160v-160H180v160Zm440 0h160v-160H620v160ZM180-180h160v-160H180v160Zm440 0h160v-160H620v160Z\"/>\n",
              "  </svg>\n",
              "    </button>\n",
              "\n",
              "  <style>\n",
              "    .colab-df-container {\n",
              "      display:flex;\n",
              "      gap: 12px;\n",
              "    }\n",
              "\n",
              "    .colab-df-convert {\n",
              "      background-color: #E8F0FE;\n",
              "      border: none;\n",
              "      border-radius: 50%;\n",
              "      cursor: pointer;\n",
              "      display: none;\n",
              "      fill: #1967D2;\n",
              "      height: 32px;\n",
              "      padding: 0 0 0 0;\n",
              "      width: 32px;\n",
              "    }\n",
              "\n",
              "    .colab-df-convert:hover {\n",
              "      background-color: #E2EBFA;\n",
              "      box-shadow: 0px 1px 2px rgba(60, 64, 67, 0.3), 0px 1px 3px 1px rgba(60, 64, 67, 0.15);\n",
              "      fill: #174EA6;\n",
              "    }\n",
              "\n",
              "    .colab-df-buttons div {\n",
              "      margin-bottom: 4px;\n",
              "    }\n",
              "\n",
              "    [theme=dark] .colab-df-convert {\n",
              "      background-color: #3B4455;\n",
              "      fill: #D2E3FC;\n",
              "    }\n",
              "\n",
              "    [theme=dark] .colab-df-convert:hover {\n",
              "      background-color: #434B5C;\n",
              "      box-shadow: 0px 1px 3px 1px rgba(0, 0, 0, 0.15);\n",
              "      filter: drop-shadow(0px 1px 2px rgba(0, 0, 0, 0.3));\n",
              "      fill: #FFFFFF;\n",
              "    }\n",
              "  </style>\n",
              "\n",
              "    <script>\n",
              "      const buttonEl =\n",
              "        document.querySelector('#df-a87892ed-9ce5-49b6-b769-3d3069ff1caa button.colab-df-convert');\n",
              "      buttonEl.style.display =\n",
              "        google.colab.kernel.accessAllowed ? 'block' : 'none';\n",
              "\n",
              "      async function convertToInteractive(key) {\n",
              "        const element = document.querySelector('#df-a87892ed-9ce5-49b6-b769-3d3069ff1caa');\n",
              "        const dataTable =\n",
              "          await google.colab.kernel.invokeFunction('convertToInteractive',\n",
              "                                                    [key], {});\n",
              "        if (!dataTable) return;\n",
              "\n",
              "        const docLinkHtml = 'Like what you see? Visit the ' +\n",
              "          '<a target=\"_blank\" href=https://colab.research.google.com/notebooks/data_table.ipynb>data table notebook</a>'\n",
              "          + ' to learn more about interactive tables.';\n",
              "        element.innerHTML = '';\n",
              "        dataTable['output_type'] = 'display_data';\n",
              "        await google.colab.output.renderOutput(dataTable, element);\n",
              "        const docLink = document.createElement('div');\n",
              "        docLink.innerHTML = docLinkHtml;\n",
              "        element.appendChild(docLink);\n",
              "      }\n",
              "    </script>\n",
              "  </div>\n",
              "\n",
              "\n",
              "<div id=\"df-c2e1d6a1-1ae6-416d-a7fe-57b2af7faa8d\">\n",
              "  <button class=\"colab-df-quickchart\" onclick=\"quickchart('df-c2e1d6a1-1ae6-416d-a7fe-57b2af7faa8d')\"\n",
              "            title=\"Suggest charts.\"\n",
              "            style=\"display:none;\">\n",
              "\n",
              "<svg xmlns=\"http://www.w3.org/2000/svg\" height=\"24px\"viewBox=\"0 0 24 24\"\n",
              "     width=\"24px\">\n",
              "    <g>\n",
              "        <path d=\"M19 3H5c-1.1 0-2 .9-2 2v14c0 1.1.9 2 2 2h14c1.1 0 2-.9 2-2V5c0-1.1-.9-2-2-2zM9 17H7v-7h2v7zm4 0h-2V7h2v10zm4 0h-2v-4h2v4z\"/>\n",
              "    </g>\n",
              "</svg>\n",
              "  </button>\n",
              "\n",
              "<style>\n",
              "  .colab-df-quickchart {\n",
              "      --bg-color: #E8F0FE;\n",
              "      --fill-color: #1967D2;\n",
              "      --hover-bg-color: #E2EBFA;\n",
              "      --hover-fill-color: #174EA6;\n",
              "      --disabled-fill-color: #AAA;\n",
              "      --disabled-bg-color: #DDD;\n",
              "  }\n",
              "\n",
              "  [theme=dark] .colab-df-quickchart {\n",
              "      --bg-color: #3B4455;\n",
              "      --fill-color: #D2E3FC;\n",
              "      --hover-bg-color: #434B5C;\n",
              "      --hover-fill-color: #FFFFFF;\n",
              "      --disabled-bg-color: #3B4455;\n",
              "      --disabled-fill-color: #666;\n",
              "  }\n",
              "\n",
              "  .colab-df-quickchart {\n",
              "    background-color: var(--bg-color);\n",
              "    border: none;\n",
              "    border-radius: 50%;\n",
              "    cursor: pointer;\n",
              "    display: none;\n",
              "    fill: var(--fill-color);\n",
              "    height: 32px;\n",
              "    padding: 0;\n",
              "    width: 32px;\n",
              "  }\n",
              "\n",
              "  .colab-df-quickchart:hover {\n",
              "    background-color: var(--hover-bg-color);\n",
              "    box-shadow: 0 1px 2px rgba(60, 64, 67, 0.3), 0 1px 3px 1px rgba(60, 64, 67, 0.15);\n",
              "    fill: var(--button-hover-fill-color);\n",
              "  }\n",
              "\n",
              "  .colab-df-quickchart-complete:disabled,\n",
              "  .colab-df-quickchart-complete:disabled:hover {\n",
              "    background-color: var(--disabled-bg-color);\n",
              "    fill: var(--disabled-fill-color);\n",
              "    box-shadow: none;\n",
              "  }\n",
              "\n",
              "  .colab-df-spinner {\n",
              "    border: 2px solid var(--fill-color);\n",
              "    border-color: transparent;\n",
              "    border-bottom-color: var(--fill-color);\n",
              "    animation:\n",
              "      spin 1s steps(1) infinite;\n",
              "  }\n",
              "\n",
              "  @keyframes spin {\n",
              "    0% {\n",
              "      border-color: transparent;\n",
              "      border-bottom-color: var(--fill-color);\n",
              "      border-left-color: var(--fill-color);\n",
              "    }\n",
              "    20% {\n",
              "      border-color: transparent;\n",
              "      border-left-color: var(--fill-color);\n",
              "      border-top-color: var(--fill-color);\n",
              "    }\n",
              "    30% {\n",
              "      border-color: transparent;\n",
              "      border-left-color: var(--fill-color);\n",
              "      border-top-color: var(--fill-color);\n",
              "      border-right-color: var(--fill-color);\n",
              "    }\n",
              "    40% {\n",
              "      border-color: transparent;\n",
              "      border-right-color: var(--fill-color);\n",
              "      border-top-color: var(--fill-color);\n",
              "    }\n",
              "    60% {\n",
              "      border-color: transparent;\n",
              "      border-right-color: var(--fill-color);\n",
              "    }\n",
              "    80% {\n",
              "      border-color: transparent;\n",
              "      border-right-color: var(--fill-color);\n",
              "      border-bottom-color: var(--fill-color);\n",
              "    }\n",
              "    90% {\n",
              "      border-color: transparent;\n",
              "      border-bottom-color: var(--fill-color);\n",
              "    }\n",
              "  }\n",
              "</style>\n",
              "\n",
              "  <script>\n",
              "    async function quickchart(key) {\n",
              "      const quickchartButtonEl =\n",
              "        document.querySelector('#' + key + ' button');\n",
              "      quickchartButtonEl.disabled = true;  // To prevent multiple clicks.\n",
              "      quickchartButtonEl.classList.add('colab-df-spinner');\n",
              "      try {\n",
              "        const charts = await google.colab.kernel.invokeFunction(\n",
              "            'suggestCharts', [key], {});\n",
              "      } catch (error) {\n",
              "        console.error('Error during call to suggestCharts:', error);\n",
              "      }\n",
              "      quickchartButtonEl.classList.remove('colab-df-spinner');\n",
              "      quickchartButtonEl.classList.add('colab-df-quickchart-complete');\n",
              "    }\n",
              "    (() => {\n",
              "      let quickchartButtonEl =\n",
              "        document.querySelector('#df-c2e1d6a1-1ae6-416d-a7fe-57b2af7faa8d button');\n",
              "      quickchartButtonEl.style.display =\n",
              "        google.colab.kernel.accessAllowed ? 'block' : 'none';\n",
              "    })();\n",
              "  </script>\n",
              "</div>\n",
              "    </div>\n",
              "  </div>\n"
            ]
          },
          "metadata": {},
          "execution_count": 85
        }
      ]
    },
    {
      "cell_type": "code",
      "source": [
        "# Finding a Keyword from our Selected Worksheet\n",
        "\n",
        "# -----\n",
        "# Selecting a worksheet\n",
        "#first_sheet = excel.worksheet(\"Sheet1\")\n",
        "#first_sheet\n",
        "\n",
        "# ----\n",
        "\n",
        "word = \"Md. Abdul Wahel\"\n",
        "cell = first_sheet.find(word)\n",
        "cell\n",
        "key_row = cell.row\n",
        "key_col = cell.col\n",
        "print(key_col,key_row)"
      ],
      "metadata": {
        "colab": {
          "base_uri": "https://localhost:8080/"
        },
        "id": "vodtxbWAgH-U",
        "outputId": "78b4fb7f-f9bb-4ac2-f4bc-69ac86b4fc0a"
      },
      "execution_count": 86,
      "outputs": [
        {
          "output_type": "stream",
          "name": "stdout",
          "text": [
            "1 6\n"
          ]
        }
      ]
    },
    {
      "cell_type": "code",
      "source": [
        "# Obtaining the value\n",
        "first_sheet.cell(3,1).value"
      ],
      "metadata": {
        "colab": {
          "base_uri": "https://localhost:8080/",
          "height": 35
        },
        "id": "IfdeApVTgxZw",
        "outputId": "31d9043e-bcc7-47c5-d185-edd9e32c158b"
      },
      "execution_count": 87,
      "outputs": [
        {
          "output_type": "execute_result",
          "data": {
            "text/plain": [
              "'Sadia Smita'"
            ],
            "application/vnd.google.colaboratory.intrinsic+json": {
              "type": "string"
            }
          },
          "metadata": {},
          "execution_count": 87
        }
      ]
    },
    {
      "cell_type": "code",
      "source": [
        "# Total number of row\n",
        "n = first_sheet.col_values(2) # Gives all the rows as list in column 2\n",
        "len(n)"
      ],
      "metadata": {
        "colab": {
          "base_uri": "https://localhost:8080/"
        },
        "id": "cK7oi2fphFOb",
        "outputId": "2c2ff9b3-9f0f-4f58-e40d-6135aa828377"
      },
      "execution_count": 88,
      "outputs": [
        {
          "output_type": "execute_result",
          "data": {
            "text/plain": [
              "10"
            ]
          },
          "metadata": {},
          "execution_count": 88
        }
      ]
    },
    {
      "cell_type": "code",
      "source": [
        "worksheet_list = excel.worksheets()\n",
        "worksheet_list"
      ],
      "metadata": {
        "colab": {
          "base_uri": "https://localhost:8080/"
        },
        "id": "L0sxbMrEvaQY",
        "outputId": "5da137ef-270c-419e-9809-5fb8ba5890f5"
      },
      "execution_count": 89,
      "outputs": [
        {
          "output_type": "execute_result",
          "data": {
            "text/plain": [
              "[<Worksheet 'Sheet1' id:0>, <Worksheet 'another_sheet' id:814142861>]"
            ]
          },
          "metadata": {},
          "execution_count": 89
        }
      ]
    },
    {
      "cell_type": "code",
      "source": [
        "second_sheet = excel.get_worksheet(1)\n",
        "second_sheet"
      ],
      "metadata": {
        "colab": {
          "base_uri": "https://localhost:8080/"
        },
        "id": "AqYftMkH2dn8",
        "outputId": "0f795d7d-6aaa-46b3-c3d4-264a67dbb05f"
      },
      "execution_count": 90,
      "outputs": [
        {
          "output_type": "execute_result",
          "data": {
            "text/plain": [
              "<Worksheet 'another_sheet' id:814142861>"
            ]
          },
          "metadata": {},
          "execution_count": 90
        }
      ]
    },
    {
      "cell_type": "code",
      "source": [
        "all_data_another_sheet = second_sheet.get_all_records()\n",
        "all_data_another_sheet\n"
      ],
      "metadata": {
        "colab": {
          "base_uri": "https://localhost:8080/"
        },
        "id": "sTWp2GY65fka",
        "outputId": "1ff35ea5-1ee7-4051-b8fb-d5a09724db91"
      },
      "execution_count": 93,
      "outputs": [
        {
          "output_type": "execute_result",
          "data": {
            "text/plain": [
              "[]"
            ]
          },
          "metadata": {},
          "execution_count": 93
        }
      ]
    },
    {
      "cell_type": "code",
      "source": [
        "second_sheet.update('A1', [[\"first_name\", \"last_name\",\"Phone\",\"address\" ], [\"Segun\", \"Chukwudi\", 18999999,\"Dhaka\"],[\"Segun\", \"Chukwudi\", 18999999,\"Dhaka\"]])"
      ],
      "metadata": {
        "colab": {
          "base_uri": "https://localhost:8080/"
        },
        "id": "-u2iNPqG7eHr",
        "outputId": "730c6589-45bb-48f1-c2dd-e02b199f466c"
      },
      "execution_count": 99,
      "outputs": [
        {
          "output_type": "execute_result",
          "data": {
            "text/plain": [
              "{'spreadsheetId': '1ntILbrQxNncEGV2fZQCfEP44B_fO3U5d0agBT22GZy0',\n",
              " 'updatedRange': 'another_sheet!A1:D3',\n",
              " 'updatedRows': 3,\n",
              " 'updatedColumns': 4,\n",
              " 'updatedCells': 12}"
            ]
          },
          "metadata": {},
          "execution_count": 99
        }
      ]
    },
    {
      "cell_type": "code",
      "source": [
        "second_sheet.update('A4',[[\"Segun\", \"Chukwudi\", 18999999,\"Dhaka\"]])"
      ],
      "metadata": {
        "colab": {
          "base_uri": "https://localhost:8080/"
        },
        "id": "bGGojihoB7R9",
        "outputId": "fdd1971e-00cb-4c97-b8ed-b7335a55e98e"
      },
      "execution_count": 100,
      "outputs": [
        {
          "output_type": "execute_result",
          "data": {
            "text/plain": [
              "{'spreadsheetId': '1ntILbrQxNncEGV2fZQCfEP44B_fO3U5d0agBT22GZy0',\n",
              " 'updatedRange': 'another_sheet!A4:D4',\n",
              " 'updatedRows': 1,\n",
              " 'updatedColumns': 4,\n",
              " 'updatedCells': 4}"
            ]
          },
          "metadata": {},
          "execution_count": 100
        }
      ]
    }
  ]
}